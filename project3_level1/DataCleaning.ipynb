{
 "cells": [
  {
   "cell_type": "markdown",
   "id": "7f661005-4e49-4246-a5c9-335ca47904ad",
   "metadata": {},
   "source": [
    "# Imorting Liabraries"
   ]
  },
  {
   "cell_type": "code",
   "execution_count": 97,
   "id": "33bac494-d18c-4f34-b286-b213a88487e1",
   "metadata": {},
   "outputs": [],
   "source": [
    "import pandas as pd\n",
    "import numpy as np\n",
    "import seaborn as sns\n",
    "import matplotlib.pyplot as plt"
   ]
  },
  {
   "cell_type": "markdown",
   "id": "b448c721-2421-486b-a551-7b99282f3d30",
   "metadata": {},
   "source": [
    "# Loading Dataset"
   ]
  },
  {
   "cell_type": "code",
   "execution_count": 99,
   "id": "229a2ace-be54-4f4b-b019-1eaec599178a",
   "metadata": {},
   "outputs": [],
   "source": [
    "og = pd.read_csv(\"AB_NYC_2019.csv\")\n",
    "np.random.seed(0)"
   ]
  },
  {
   "cell_type": "markdown",
   "id": "b4bc33e2-1c7c-417e-9956-9da64631cc5b",
   "metadata": {},
   "source": [
    "# EDA"
   ]
  },
  {
   "cell_type": "code",
   "execution_count": 101,
   "id": "438a55f5-5523-473f-ab2a-2386a5c7cdce",
   "metadata": {},
   "outputs": [
    {
     "data": {
      "text/html": [
       "<div>\n",
       "<style scoped>\n",
       "    .dataframe tbody tr th:only-of-type {\n",
       "        vertical-align: middle;\n",
       "    }\n",
       "\n",
       "    .dataframe tbody tr th {\n",
       "        vertical-align: top;\n",
       "    }\n",
       "\n",
       "    .dataframe thead th {\n",
       "        text-align: right;\n",
       "    }\n",
       "</style>\n",
       "<table border=\"1\" class=\"dataframe\">\n",
       "  <thead>\n",
       "    <tr style=\"text-align: right;\">\n",
       "      <th></th>\n",
       "      <th>id</th>\n",
       "      <th>name</th>\n",
       "      <th>host_id</th>\n",
       "      <th>host_name</th>\n",
       "      <th>neighbourhood_group</th>\n",
       "      <th>neighbourhood</th>\n",
       "      <th>latitude</th>\n",
       "      <th>longitude</th>\n",
       "      <th>room_type</th>\n",
       "      <th>price</th>\n",
       "      <th>minimum_nights</th>\n",
       "      <th>number_of_reviews</th>\n",
       "      <th>last_review</th>\n",
       "      <th>reviews_per_month</th>\n",
       "      <th>calculated_host_listings_count</th>\n",
       "      <th>availability_365</th>\n",
       "    </tr>\n",
       "  </thead>\n",
       "  <tbody>\n",
       "    <tr>\n",
       "      <th>0</th>\n",
       "      <td>2539</td>\n",
       "      <td>Clean &amp; quiet apt home by the park</td>\n",
       "      <td>2787</td>\n",
       "      <td>John</td>\n",
       "      <td>Brooklyn</td>\n",
       "      <td>Kensington</td>\n",
       "      <td>40.64749</td>\n",
       "      <td>-73.97237</td>\n",
       "      <td>Private room</td>\n",
       "      <td>149</td>\n",
       "      <td>1</td>\n",
       "      <td>9</td>\n",
       "      <td>2018-10-19</td>\n",
       "      <td>0.21</td>\n",
       "      <td>6</td>\n",
       "      <td>365</td>\n",
       "    </tr>\n",
       "    <tr>\n",
       "      <th>1</th>\n",
       "      <td>2595</td>\n",
       "      <td>Skylit Midtown Castle</td>\n",
       "      <td>2845</td>\n",
       "      <td>Jennifer</td>\n",
       "      <td>Manhattan</td>\n",
       "      <td>Midtown</td>\n",
       "      <td>40.75362</td>\n",
       "      <td>-73.98377</td>\n",
       "      <td>Entire home/apt</td>\n",
       "      <td>225</td>\n",
       "      <td>1</td>\n",
       "      <td>45</td>\n",
       "      <td>2019-05-21</td>\n",
       "      <td>0.38</td>\n",
       "      <td>2</td>\n",
       "      <td>355</td>\n",
       "    </tr>\n",
       "    <tr>\n",
       "      <th>2</th>\n",
       "      <td>3647</td>\n",
       "      <td>THE VILLAGE OF HARLEM....NEW YORK !</td>\n",
       "      <td>4632</td>\n",
       "      <td>Elisabeth</td>\n",
       "      <td>Manhattan</td>\n",
       "      <td>Harlem</td>\n",
       "      <td>40.80902</td>\n",
       "      <td>-73.94190</td>\n",
       "      <td>Private room</td>\n",
       "      <td>150</td>\n",
       "      <td>3</td>\n",
       "      <td>0</td>\n",
       "      <td>NaN</td>\n",
       "      <td>NaN</td>\n",
       "      <td>1</td>\n",
       "      <td>365</td>\n",
       "    </tr>\n",
       "    <tr>\n",
       "      <th>3</th>\n",
       "      <td>3831</td>\n",
       "      <td>Cozy Entire Floor of Brownstone</td>\n",
       "      <td>4869</td>\n",
       "      <td>LisaRoxanne</td>\n",
       "      <td>Brooklyn</td>\n",
       "      <td>Clinton Hill</td>\n",
       "      <td>40.68514</td>\n",
       "      <td>-73.95976</td>\n",
       "      <td>Entire home/apt</td>\n",
       "      <td>89</td>\n",
       "      <td>1</td>\n",
       "      <td>270</td>\n",
       "      <td>2019-07-05</td>\n",
       "      <td>4.64</td>\n",
       "      <td>1</td>\n",
       "      <td>194</td>\n",
       "    </tr>\n",
       "    <tr>\n",
       "      <th>4</th>\n",
       "      <td>5022</td>\n",
       "      <td>Entire Apt: Spacious Studio/Loft by central park</td>\n",
       "      <td>7192</td>\n",
       "      <td>Laura</td>\n",
       "      <td>Manhattan</td>\n",
       "      <td>East Harlem</td>\n",
       "      <td>40.79851</td>\n",
       "      <td>-73.94399</td>\n",
       "      <td>Entire home/apt</td>\n",
       "      <td>80</td>\n",
       "      <td>10</td>\n",
       "      <td>9</td>\n",
       "      <td>2018-11-19</td>\n",
       "      <td>0.10</td>\n",
       "      <td>1</td>\n",
       "      <td>0</td>\n",
       "    </tr>\n",
       "  </tbody>\n",
       "</table>\n",
       "</div>"
      ],
      "text/plain": [
       "     id                                              name  host_id  \\\n",
       "0  2539                Clean & quiet apt home by the park     2787   \n",
       "1  2595                             Skylit Midtown Castle     2845   \n",
       "2  3647               THE VILLAGE OF HARLEM....NEW YORK !     4632   \n",
       "3  3831                   Cozy Entire Floor of Brownstone     4869   \n",
       "4  5022  Entire Apt: Spacious Studio/Loft by central park     7192   \n",
       "\n",
       "     host_name neighbourhood_group neighbourhood  latitude  longitude  \\\n",
       "0         John            Brooklyn    Kensington  40.64749  -73.97237   \n",
       "1     Jennifer           Manhattan       Midtown  40.75362  -73.98377   \n",
       "2    Elisabeth           Manhattan        Harlem  40.80902  -73.94190   \n",
       "3  LisaRoxanne            Brooklyn  Clinton Hill  40.68514  -73.95976   \n",
       "4        Laura           Manhattan   East Harlem  40.79851  -73.94399   \n",
       "\n",
       "         room_type  price  minimum_nights  number_of_reviews last_review  \\\n",
       "0     Private room    149               1                  9  2018-10-19   \n",
       "1  Entire home/apt    225               1                 45  2019-05-21   \n",
       "2     Private room    150               3                  0         NaN   \n",
       "3  Entire home/apt     89               1                270  2019-07-05   \n",
       "4  Entire home/apt     80              10                  9  2018-11-19   \n",
       "\n",
       "   reviews_per_month  calculated_host_listings_count  availability_365  \n",
       "0               0.21                               6               365  \n",
       "1               0.38                               2               355  \n",
       "2                NaN                               1               365  \n",
       "3               4.64                               1               194  \n",
       "4               0.10                               1                 0  "
      ]
     },
     "execution_count": 101,
     "metadata": {},
     "output_type": "execute_result"
    }
   ],
   "source": [
    "og.head()"
   ]
  },
  {
   "cell_type": "code",
   "execution_count": 102,
   "id": "359565fe-1c56-4e32-9ac5-6b5e629296de",
   "metadata": {},
   "outputs": [
    {
     "data": {
      "text/html": [
       "<div>\n",
       "<style scoped>\n",
       "    .dataframe tbody tr th:only-of-type {\n",
       "        vertical-align: middle;\n",
       "    }\n",
       "\n",
       "    .dataframe tbody tr th {\n",
       "        vertical-align: top;\n",
       "    }\n",
       "\n",
       "    .dataframe thead th {\n",
       "        text-align: right;\n",
       "    }\n",
       "</style>\n",
       "<table border=\"1\" class=\"dataframe\">\n",
       "  <thead>\n",
       "    <tr style=\"text-align: right;\">\n",
       "      <th></th>\n",
       "      <th>id</th>\n",
       "      <th>name</th>\n",
       "      <th>host_id</th>\n",
       "      <th>host_name</th>\n",
       "      <th>neighbourhood_group</th>\n",
       "      <th>neighbourhood</th>\n",
       "      <th>latitude</th>\n",
       "      <th>longitude</th>\n",
       "      <th>room_type</th>\n",
       "      <th>price</th>\n",
       "      <th>minimum_nights</th>\n",
       "      <th>number_of_reviews</th>\n",
       "      <th>last_review</th>\n",
       "      <th>reviews_per_month</th>\n",
       "      <th>calculated_host_listings_count</th>\n",
       "      <th>availability_365</th>\n",
       "    </tr>\n",
       "  </thead>\n",
       "  <tbody>\n",
       "    <tr>\n",
       "      <th>48890</th>\n",
       "      <td>36484665</td>\n",
       "      <td>Charming one bedroom - newly renovated rowhouse</td>\n",
       "      <td>8232441</td>\n",
       "      <td>Sabrina</td>\n",
       "      <td>Brooklyn</td>\n",
       "      <td>Bedford-Stuyvesant</td>\n",
       "      <td>40.67853</td>\n",
       "      <td>-73.94995</td>\n",
       "      <td>Private room</td>\n",
       "      <td>70</td>\n",
       "      <td>2</td>\n",
       "      <td>0</td>\n",
       "      <td>NaN</td>\n",
       "      <td>NaN</td>\n",
       "      <td>2</td>\n",
       "      <td>9</td>\n",
       "    </tr>\n",
       "    <tr>\n",
       "      <th>48891</th>\n",
       "      <td>36485057</td>\n",
       "      <td>Affordable room in Bushwick/East Williamsburg</td>\n",
       "      <td>6570630</td>\n",
       "      <td>Marisol</td>\n",
       "      <td>Brooklyn</td>\n",
       "      <td>Bushwick</td>\n",
       "      <td>40.70184</td>\n",
       "      <td>-73.93317</td>\n",
       "      <td>Private room</td>\n",
       "      <td>40</td>\n",
       "      <td>4</td>\n",
       "      <td>0</td>\n",
       "      <td>NaN</td>\n",
       "      <td>NaN</td>\n",
       "      <td>2</td>\n",
       "      <td>36</td>\n",
       "    </tr>\n",
       "    <tr>\n",
       "      <th>48892</th>\n",
       "      <td>36485431</td>\n",
       "      <td>Sunny Studio at Historical Neighborhood</td>\n",
       "      <td>23492952</td>\n",
       "      <td>Ilgar &amp; Aysel</td>\n",
       "      <td>Manhattan</td>\n",
       "      <td>Harlem</td>\n",
       "      <td>40.81475</td>\n",
       "      <td>-73.94867</td>\n",
       "      <td>Entire home/apt</td>\n",
       "      <td>115</td>\n",
       "      <td>10</td>\n",
       "      <td>0</td>\n",
       "      <td>NaN</td>\n",
       "      <td>NaN</td>\n",
       "      <td>1</td>\n",
       "      <td>27</td>\n",
       "    </tr>\n",
       "    <tr>\n",
       "      <th>48893</th>\n",
       "      <td>36485609</td>\n",
       "      <td>43rd St. Time Square-cozy single bed</td>\n",
       "      <td>30985759</td>\n",
       "      <td>Taz</td>\n",
       "      <td>Manhattan</td>\n",
       "      <td>Hell's Kitchen</td>\n",
       "      <td>40.75751</td>\n",
       "      <td>-73.99112</td>\n",
       "      <td>Shared room</td>\n",
       "      <td>55</td>\n",
       "      <td>1</td>\n",
       "      <td>0</td>\n",
       "      <td>NaN</td>\n",
       "      <td>NaN</td>\n",
       "      <td>6</td>\n",
       "      <td>2</td>\n",
       "    </tr>\n",
       "    <tr>\n",
       "      <th>48894</th>\n",
       "      <td>36487245</td>\n",
       "      <td>Trendy duplex in the very heart of Hell's Kitchen</td>\n",
       "      <td>68119814</td>\n",
       "      <td>Christophe</td>\n",
       "      <td>Manhattan</td>\n",
       "      <td>Hell's Kitchen</td>\n",
       "      <td>40.76404</td>\n",
       "      <td>-73.98933</td>\n",
       "      <td>Private room</td>\n",
       "      <td>90</td>\n",
       "      <td>7</td>\n",
       "      <td>0</td>\n",
       "      <td>NaN</td>\n",
       "      <td>NaN</td>\n",
       "      <td>1</td>\n",
       "      <td>23</td>\n",
       "    </tr>\n",
       "  </tbody>\n",
       "</table>\n",
       "</div>"
      ],
      "text/plain": [
       "             id                                               name   host_id  \\\n",
       "48890  36484665    Charming one bedroom - newly renovated rowhouse   8232441   \n",
       "48891  36485057      Affordable room in Bushwick/East Williamsburg   6570630   \n",
       "48892  36485431            Sunny Studio at Historical Neighborhood  23492952   \n",
       "48893  36485609               43rd St. Time Square-cozy single bed  30985759   \n",
       "48894  36487245  Trendy duplex in the very heart of Hell's Kitchen  68119814   \n",
       "\n",
       "           host_name neighbourhood_group       neighbourhood  latitude  \\\n",
       "48890        Sabrina            Brooklyn  Bedford-Stuyvesant  40.67853   \n",
       "48891        Marisol            Brooklyn            Bushwick  40.70184   \n",
       "48892  Ilgar & Aysel           Manhattan              Harlem  40.81475   \n",
       "48893            Taz           Manhattan      Hell's Kitchen  40.75751   \n",
       "48894     Christophe           Manhattan      Hell's Kitchen  40.76404   \n",
       "\n",
       "       longitude        room_type  price  minimum_nights  number_of_reviews  \\\n",
       "48890  -73.94995     Private room     70               2                  0   \n",
       "48891  -73.93317     Private room     40               4                  0   \n",
       "48892  -73.94867  Entire home/apt    115              10                  0   \n",
       "48893  -73.99112      Shared room     55               1                  0   \n",
       "48894  -73.98933     Private room     90               7                  0   \n",
       "\n",
       "      last_review  reviews_per_month  calculated_host_listings_count  \\\n",
       "48890         NaN                NaN                               2   \n",
       "48891         NaN                NaN                               2   \n",
       "48892         NaN                NaN                               1   \n",
       "48893         NaN                NaN                               6   \n",
       "48894         NaN                NaN                               1   \n",
       "\n",
       "       availability_365  \n",
       "48890                 9  \n",
       "48891                36  \n",
       "48892                27  \n",
       "48893                 2  \n",
       "48894                23  "
      ]
     },
     "execution_count": 102,
     "metadata": {},
     "output_type": "execute_result"
    }
   ],
   "source": [
    "og.tail()"
   ]
  },
  {
   "cell_type": "markdown",
   "id": "c464c258-d627-49a3-b2cf-46f2b821cdb9",
   "metadata": {},
   "source": [
    "Copy Dataset"
   ]
  },
  {
   "cell_type": "code",
   "execution_count": 104,
   "id": "06df2c71-2b4f-4c4f-bc41-6abe560a6f0c",
   "metadata": {},
   "outputs": [],
   "source": [
    "data = og.copy()"
   ]
  },
  {
   "cell_type": "markdown",
   "id": "5ad25189-6e04-4e1e-ad64-f90168ce2498",
   "metadata": {},
   "source": [
    "Check for no. Rows & Columns"
   ]
  },
  {
   "cell_type": "code",
   "execution_count": 106,
   "id": "ce7284a8-3082-428e-a154-6cb12d8bf176",
   "metadata": {},
   "outputs": [
    {
     "data": {
      "text/plain": [
       "(48895, 16)"
      ]
     },
     "execution_count": 106,
     "metadata": {},
     "output_type": "execute_result"
    }
   ],
   "source": [
    "data.shape"
   ]
  },
  {
   "cell_type": "markdown",
   "id": "67704bac-acd1-47d2-b077-88feec9cd26a",
   "metadata": {},
   "source": [
    "Check for null values"
   ]
  },
  {
   "cell_type": "code",
   "execution_count": 108,
   "id": "891ba483-b518-474e-8794-8958300056cc",
   "metadata": {},
   "outputs": [
    {
     "name": "stdout",
     "output_type": "stream",
     "text": [
      "id                                    0\n",
      "name                                 16\n",
      "host_id                               0\n",
      "host_name                            21\n",
      "neighbourhood_group                   0\n",
      "neighbourhood                         0\n",
      "latitude                              0\n",
      "longitude                             0\n",
      "room_type                             0\n",
      "price                                 0\n",
      "minimum_nights                        0\n",
      "number_of_reviews                     0\n",
      "last_review                       10052\n",
      "reviews_per_month                 10052\n",
      "calculated_host_listings_count        0\n",
      "availability_365                      0\n",
      "dtype: int64\n"
     ]
    }
   ],
   "source": [
    "print(data.isna().sum())"
   ]
  },
  {
   "cell_type": "code",
   "execution_count": 109,
   "id": "cc5c2e7d-afcb-494e-9ed5-fd48ddb48861",
   "metadata": {},
   "outputs": [
    {
     "name": "stdout",
     "output_type": "stream",
     "text": [
      "             id name   host_id host_name neighbourhood_group  \\\n",
      "2854    1615764  NaN   6676776     Peter           Manhattan   \n",
      "3703    2232600  NaN  11395220      Anna           Manhattan   \n",
      "5775    4209595  NaN  20700823     Jesse           Manhattan   \n",
      "5975    4370230  NaN  22686810   Michaël           Manhattan   \n",
      "6269    4581788  NaN  21600904     Lucie            Brooklyn   \n",
      "6567    4756856  NaN   1832442  Carolina            Brooklyn   \n",
      "6605    4774658  NaN  24625694      Josh           Manhattan   \n",
      "8841    6782407  NaN  31147528  Huei-Yin            Brooklyn   \n",
      "11963   9325951  NaN  33377685  Jonathan           Manhattan   \n",
      "12824   9787590  NaN  50448556    Miguel           Manhattan   \n",
      "13059   9885866  NaN  37306329  Juliette           Manhattan   \n",
      "13401  10052289  NaN  49522403   Vanessa            Brooklyn   \n",
      "15819  12797684  NaN  69715276       Yan           Manhattan   \n",
      "16071  12988898  NaN  71552588    Andrea               Bronx   \n",
      "18047  14135050  NaN  85288337      Jeff            Brooklyn   \n",
      "28889  22275821  NaN  49662398  Kathleen            Brooklyn   \n",
      "\n",
      "            neighbourhood  latitude  longitude        room_type  price  \\\n",
      "2854    Battery Park City  40.71239  -74.01620  Entire home/apt    400   \n",
      "3703         East Village  40.73215  -73.98821  Entire home/apt    200   \n",
      "5775    Greenwich Village  40.73473  -73.99244  Entire home/apt    225   \n",
      "5975               Nolita  40.72046  -73.99550  Entire home/apt    215   \n",
      "6269         Williamsburg  40.71370  -73.94378     Private room    150   \n",
      "6567             Bushwick  40.70046  -73.92825     Private room     70   \n",
      "6605   Washington Heights  40.85198  -73.93108     Private room     40   \n",
      "8841         Williamsburg  40.71354  -73.93882     Private room     45   \n",
      "11963      Hell's Kitchen  40.76436  -73.98573  Entire home/apt    190   \n",
      "12824              Harlem  40.80316  -73.95189  Entire home/apt    300   \n",
      "13059           Chinatown  40.71632  -73.99328     Private room     67   \n",
      "13401         Brownsville  40.66409  -73.92314     Private room     50   \n",
      "15819     Upper West Side  40.79843  -73.96404     Private room    100   \n",
      "16071             Fordham  40.86032  -73.88493      Shared room    130   \n",
      "18047  Bedford-Stuyvesant  40.69421  -73.93234     Private room     70   \n",
      "28889            Bushwick  40.69546  -73.92741  Entire home/apt    110   \n",
      "\n",
      "       minimum_nights  number_of_reviews last_review  reviews_per_month  \\\n",
      "2854             1000                  0         NaN                NaN   \n",
      "3703                1                 28  2015-06-08               0.45   \n",
      "5775                1                  1  2015-01-01               0.02   \n",
      "5975                7                  5  2016-01-02               0.09   \n",
      "6269                1                  0         NaN                NaN   \n",
      "6567                1                  0         NaN                NaN   \n",
      "6605                1                  0         NaN                NaN   \n",
      "8841                1                  0         NaN                NaN   \n",
      "11963               4                  1  2016-01-05               0.02   \n",
      "12824               5                  0         NaN                NaN   \n",
      "13059               4                  0         NaN                NaN   \n",
      "13401               3                  3  2016-08-18               0.07   \n",
      "15819               1                  0         NaN                NaN   \n",
      "16071               1                  0         NaN                NaN   \n",
      "18047               3                  0         NaN                NaN   \n",
      "28889               4                  5  2018-08-13               0.27   \n",
      "\n",
      "       calculated_host_listings_count  availability_365  \n",
      "2854                                1               362  \n",
      "3703                                1               341  \n",
      "5775                                1                 0  \n",
      "5975                                1                 0  \n",
      "6269                                1                 0  \n",
      "6567                                1                 0  \n",
      "6605                                1                 0  \n",
      "8841                                1                 0  \n",
      "11963                               1                 0  \n",
      "12824                               5                 0  \n",
      "13059                               1                 0  \n",
      "13401                               1               362  \n",
      "15819                               2                 0  \n",
      "16071                               1               365  \n",
      "18047                               1                 0  \n",
      "28889                               1                 0  \n"
     ]
    }
   ],
   "source": [
    "nan_name = data[data['name'].isnull()]\n",
    "print(nan_name)"
   ]
  },
  {
   "cell_type": "code",
   "execution_count": 110,
   "id": "08f7dadc-87e1-4467-8b03-c35d71a7d3e3",
   "metadata": {},
   "outputs": [
    {
     "name": "stdout",
     "output_type": "stream",
     "text": [
      "             id                                               name    host_id  \\\n",
      "360      100184                                          Bienvenue     526653   \n",
      "2700    1449546                            Cozy Studio in Flatbush    7779204   \n",
      "5745    4183989    SPRING in the City!! Zen-Style Tranquil Bedroom     919218   \n",
      "6075    4446862                 Charming Room in Prospect Heights!   23077718   \n",
      "6582    4763327                Luxurious, best location, spa inc'l   24576978   \n",
      "8163    6292866                          Modern Quiet Gem Near All   32722063   \n",
      "8257    6360224                    Sunny, Private room in Bushwick   33134899   \n",
      "8852    6786181                       R&S Modern Spacious Hideaway   32722063   \n",
      "9138    6992973                    1 Bedroom in Prime Williamsburg    5162530   \n",
      "9817    7556587                               Sunny Room in Harlem   39608626   \n",
      "14040  10709846                 Sunny, spacious room in Greenpoint    7822683   \n",
      "14631  11553543                                  Cozy Room Astoria   26138712   \n",
      "15174  12113879     Sunny, Large West Village 1 BR Near Everything    5300585   \n",
      "19565  15648096              Spacious 2 bedroom close to Manhattan  100971588   \n",
      "27777  21787094         Spacious and Bright Midtown East Apartment     415290   \n",
      "27962  21867710  Amazing room in the centre on Manhatten! Welcome!  159156636   \n",
      "28042  21901156  Best Deal! Lovely place in Manhattan! Time Squ...  159156636   \n",
      "28274  21990808                 ***SLEEPING IN THE GOLDEN PLACE***  159156636   \n",
      "30570  23660605    Private Bedroom w/ Balcony view of Central Park  177146433   \n",
      "32193  25180572                     Beautiful Cozy Studio Apt. UWS  119609345   \n",
      "38992  30468335            LARGE Prospect Lefferts Gardens Bedroom  228750026   \n",
      "\n",
      "      host_name neighbourhood_group     neighbourhood  latitude  longitude  \\\n",
      "360         NaN              Queens    Queens Village  40.72413  -73.76133   \n",
      "2700        NaN            Brooklyn          Flatbush  40.64965  -73.96154   \n",
      "5745        NaN           Manhattan            Harlem  40.80606  -73.95061   \n",
      "6075        NaN            Brooklyn     Crown Heights  40.67512  -73.96146   \n",
      "6582        NaN            Brooklyn        Greenpoint  40.72035  -73.95355   \n",
      "8163        NaN            Brooklyn     East Flatbush  40.65263  -73.93215   \n",
      "8257        NaN            Brooklyn          Bushwick  40.70146  -73.92792   \n",
      "8852        NaN            Brooklyn     East Flatbush  40.64345  -73.93643   \n",
      "9138        NaN            Brooklyn      Williamsburg  40.71838  -73.95630   \n",
      "9817        NaN           Manhattan            Harlem  40.82929  -73.94182   \n",
      "14040       NaN            Brooklyn        Greenpoint  40.73539  -73.95838   \n",
      "14631       NaN              Queens  Ditmars Steinway  40.77587  -73.91775   \n",
      "15174       NaN           Manhattan           Chelsea  40.73949  -73.99801   \n",
      "19565       NaN               Bronx        Highbridge  40.83844  -73.92489   \n",
      "27777       NaN           Manhattan   Upper East Side  40.76436  -73.96836   \n",
      "27962       NaN           Manhattan    Hell's Kitchen  40.75668  -73.99097   \n",
      "28042       NaN           Manhattan    Hell's Kitchen  40.75656  -73.99063   \n",
      "28274       NaN           Manhattan    Hell's Kitchen  40.75835  -73.99065   \n",
      "30570       NaN           Manhattan       East Harlem  40.79766  -73.94824   \n",
      "32193       NaN           Manhattan   Upper West Side  40.77701  -73.97667   \n",
      "38992       NaN            Brooklyn          Flatbush  40.65152  -73.95271   \n",
      "\n",
      "             room_type  price  minimum_nights  number_of_reviews last_review  \\\n",
      "360       Private room     50               1                 43  2019-07-08   \n",
      "2700   Entire home/apt    100              30                 49  2017-01-02   \n",
      "5745      Private room     86               3                 34  2019-05-23   \n",
      "6075      Private room     50               1                  0         NaN   \n",
      "6582   Entire home/apt    195               1                  1  2015-10-20   \n",
      "8163   Entire home/apt     85               2                182  2019-06-19   \n",
      "8257      Private room     37               1                  1  2015-07-01   \n",
      "8852   Entire home/apt    100               2                157  2019-06-19   \n",
      "9138   Entire home/apt    145               1                  0         NaN   \n",
      "9817      Private room     28               1                  1  2015-08-01   \n",
      "14040     Private room     55              10                  2  2016-11-05   \n",
      "14631     Private room     45               1                  5  2017-01-01   \n",
      "15174  Entire home/apt    220               4                 81  2019-07-02   \n",
      "19565  Entire home/apt     75               4                 37  2019-07-07   \n",
      "27777  Entire home/apt    325               1                  0         NaN   \n",
      "27962     Private room    120               1                 89  2019-01-01   \n",
      "28042     Private room    120               1                109  2019-01-01   \n",
      "28274     Private room    120               1                 88  2018-12-14   \n",
      "30570     Private room    139               1                  6  2018-08-12   \n",
      "32193  Entire home/apt    180               4                  0         NaN   \n",
      "38992     Private room     55               7                  0         NaN   \n",
      "\n",
      "       reviews_per_month  calculated_host_listings_count  availability_365  \n",
      "360                 0.45                               1                88  \n",
      "2700                0.69                               1               342  \n",
      "5745                1.00                               1               359  \n",
      "6075                 NaN                               1                 0  \n",
      "6582                0.02                               1                 0  \n",
      "8163                3.59                               2               318  \n",
      "8257                0.02                               1                 0  \n",
      "8852                3.18                               2               342  \n",
      "9138                 NaN                               1                 0  \n",
      "9817                0.02                               1                 0  \n",
      "14040               0.05                               1                 0  \n",
      "14631               0.13                               1                 0  \n",
      "15174               2.11                               1               217  \n",
      "19565               1.21                               1                26  \n",
      "27777                NaN                               1                 0  \n",
      "27962               5.16                               3                 0  \n",
      "28042               5.97                               3                 0  \n",
      "28274               4.93                               3                 0  \n",
      "30570               0.46                               1                 0  \n",
      "32193                NaN                               1                 0  \n",
      "38992                NaN                               1                69  \n"
     ]
    }
   ],
   "source": [
    "nan_host_name = data[data['host_name'].isnull()]\n",
    "print(nan_host_name)"
   ]
  },
  {
   "cell_type": "code",
   "execution_count": 111,
   "id": "348c5d03-3de5-4a71-a5de-3b3f8e37597c",
   "metadata": {},
   "outputs": [
    {
     "name": "stdout",
     "output_type": "stream",
     "text": [
      "Empty DataFrame\n",
      "Columns: [id, name, host_id, host_name, neighbourhood_group, neighbourhood, latitude, longitude, room_type, price, minimum_nights, number_of_reviews, last_review, reviews_per_month, calculated_host_listings_count, availability_365]\n",
      "Index: []\n"
     ]
    }
   ],
   "source": [
    "common_nan = data[data['name'].isna() & data['host_name'].isna()]\n",
    "print(common_nan)"
   ]
  },
  {
   "cell_type": "markdown",
   "id": "ef3ec4a1-b80c-4669-8c3c-079dd23d1064",
   "metadata": {},
   "source": [
    "*There is no value that has both NAME and HOST_NAME as NAN*"
   ]
  },
  {
   "cell_type": "code",
   "execution_count": 113,
   "id": "843250e9-b2a5-4a97-bb2f-9312883dbdc4",
   "metadata": {},
   "outputs": [
    {
     "name": "stdout",
     "output_type": "stream",
     "text": [
      "2854      1615764\n",
      "3703      2232600\n",
      "5775      4209595\n",
      "5975      4370230\n",
      "6269      4581788\n",
      "6567      4756856\n",
      "6605      4774658\n",
      "8841      6782407\n",
      "11963     9325951\n",
      "12824     9787590\n",
      "13059     9885866\n",
      "13401    10052289\n",
      "15819    12797684\n",
      "16071    12988898\n",
      "18047    14135050\n",
      "28889    22275821\n",
      "Name: id, dtype: int64\n"
     ]
    }
   ],
   "source": [
    "print(nan_name['id'])"
   ]
  },
  {
   "cell_type": "markdown",
   "id": "dd178df2-cfe7-48d0-a3f5-e0d79d64cf48",
   "metadata": {},
   "source": [
    "*These customer don't have there name*"
   ]
  },
  {
   "cell_type": "code",
   "execution_count": 115,
   "id": "3c95d2a1-1f5a-4a49-a0c4-74bda551b52b",
   "metadata": {},
   "outputs": [
    {
     "name": "stdout",
     "output_type": "stream",
     "text": [
      "360        100184\n",
      "2700      1449546\n",
      "5745      4183989\n",
      "6075      4446862\n",
      "6582      4763327\n",
      "8163      6292866\n",
      "8257      6360224\n",
      "8852      6786181\n",
      "9138      6992973\n",
      "9817      7556587\n",
      "14040    10709846\n",
      "14631    11553543\n",
      "15174    12113879\n",
      "19565    15648096\n",
      "27777    21787094\n",
      "27962    21867710\n",
      "28042    21901156\n",
      "28274    21990808\n",
      "30570    23660605\n",
      "32193    25180572\n",
      "38992    30468335\n",
      "Name: id, dtype: int64\n"
     ]
    }
   ],
   "source": [
    "print(nan_host_name['id'])"
   ]
  },
  {
   "cell_type": "markdown",
   "id": "03187518-3c6b-498a-a365-de0471ba0603",
   "metadata": {},
   "source": [
    "*These customer don't have there host_name*"
   ]
  },
  {
   "cell_type": "code",
   "execution_count": 117,
   "id": "a5149b5b-ebe2-4a5f-b8cd-598dfddc7609",
   "metadata": {},
   "outputs": [],
   "source": [
    "data = data.dropna()"
   ]
  },
  {
   "cell_type": "markdown",
   "id": "6ab5125a-c5b7-487f-82b0-69178d88a74f",
   "metadata": {},
   "source": [
    "*REMOVED ALL THE NaN VALUES*"
   ]
  },
  {
   "cell_type": "code",
   "execution_count": 119,
   "id": "411bc889-09eb-48b6-8596-520490fb4966",
   "metadata": {},
   "outputs": [
    {
     "name": "stdout",
     "output_type": "stream",
     "text": [
      "Empty DataFrame\n",
      "Columns: [id, name, host_id, host_name, neighbourhood_group, neighbourhood, latitude, longitude, room_type, price, minimum_nights, number_of_reviews, last_review, reviews_per_month, calculated_host_listings_count, availability_365]\n",
      "Index: []\n"
     ]
    }
   ],
   "source": [
    "duplicateRows = data[data.duplicated()]\n",
    "print(duplicateRows)"
   ]
  },
  {
   "cell_type": "code",
   "execution_count": 120,
   "id": "7d68ccc8-03f4-4b5b-afc3-5bb8ef7d701a",
   "metadata": {},
   "outputs": [
    {
     "name": "stdout",
     "output_type": "stream",
     "text": [
      "Empty DataFrame\n",
      "Columns: [id, name, host_id, host_name, neighbourhood_group, neighbourhood, latitude, longitude, room_type, price, minimum_nights, number_of_reviews, last_review, reviews_per_month, calculated_host_listings_count, availability_365]\n",
      "Index: []\n"
     ]
    }
   ],
   "source": [
    "duplicateRows = data[data.duplicated(subset=['id', 'name'])]\n",
    "print(duplicateRows)"
   ]
  },
  {
   "cell_type": "markdown",
   "id": "76f21d36-98f8-45e7-a8ca-a08ef9369098",
   "metadata": {},
   "source": [
    "*There are no duplicate data*"
   ]
  },
  {
   "cell_type": "markdown",
   "id": "19557eed-20c4-42b2-8904-c835e95c4c29",
   "metadata": {},
   "source": [
    "*Outliers Detection*"
   ]
  },
  {
   "cell_type": "code",
   "execution_count": 123,
   "id": "1669c0f1-8265-4f7b-9b98-1085b29407d8",
   "metadata": {},
   "outputs": [
    {
     "name": "stdout",
     "output_type": "stream",
     "text": [
      "Outliers (Z-score method):              id                                               name    host_id  \\\n",
      "85        19601                perfect for a family or small group      74303   \n",
      "496      174966              Luxury 2Bed/2.5Bath Central Park View     836168   \n",
      "662      250801                 Heart & Soul of Greenwich Village     1314834   \n",
      "691      256328          Luxury Chelsea Townhouse at the High Line    1347034   \n",
      "762      273190          6 Bedroom Landmark West Village Townhouse     605463   \n",
      "...         ...                                                ...        ...   \n",
      "47041  35569459         Luxury Full Floor SoHo Loft | 3 Bed/2 Bath  163029687   \n",
      "47063  35576863  JAVITS Beautiful Stay for your NYC Vacation *****   83819376   \n",
      "47391  35713184  Prospect Park Historic 1BR near 2,5,Q, B, S tr...   11503187   \n",
      "47400  35715171  Host yr PARTY in style -Manhattan ROOF TOP for 25   71276635   \n",
      "47950  36000376                   ★★ 4Br 2Ba Getaway in Chelsea ★★  268449136   \n",
      "\n",
      "                 host_name neighbourhood_group              neighbourhood  \\\n",
      "85                  Maggie            Brooklyn           Brooklyn Heights   \n",
      "496                  Henry           Manhattan            Upper West Side   \n",
      "662                  Rhona           Manhattan          Greenwich Village   \n",
      "691                 Janine           Manhattan                    Chelsea   \n",
      "762           West Village           Manhattan               West Village   \n",
      "...                    ...                 ...                        ...   \n",
      "47041         Anna + Jason           Manhattan                       SoHo   \n",
      "47063          Ryan & Mary           Manhattan             Hell's Kitchen   \n",
      "47391                    A            Brooklyn  Prospect-Lefferts Gardens   \n",
      "47400                  Joe           Manhattan         Washington Heights   \n",
      "47950  Alexandra & William           Manhattan                    Chelsea   \n",
      "\n",
      "       latitude  longitude        room_type  price  minimum_nights  \\\n",
      "85     40.69723  -73.99268  Entire home/apt    800               1   \n",
      "496    40.77350  -73.98697  Entire home/apt   2000              30   \n",
      "662    40.73129  -73.99944  Entire home/apt    850               3   \n",
      "691    40.74599  -74.00253  Entire home/apt    760               2   \n",
      "762    40.73301  -74.00268  Entire home/apt   1300               5   \n",
      "...         ...        ...              ...    ...             ...   \n",
      "47041  40.72434  -73.99945  Entire home/apt    900               3   \n",
      "47063  40.75438  -73.99378  Entire home/apt    843               1   \n",
      "47391  40.66085  -73.95586  Entire home/apt   1400              10   \n",
      "47400  40.83571  -73.94179  Entire home/apt    750               1   \n",
      "47950  40.74263  -74.00234  Entire home/apt    800               3   \n",
      "\n",
      "       number_of_reviews last_review  reviews_per_month  \\\n",
      "85                    25  2016-08-04               0.24   \n",
      "496                   30  2018-05-05               0.33   \n",
      "662                  107  2019-05-23               1.15   \n",
      "691                    7  2019-06-22               0.08   \n",
      "762                   28  2018-09-25               0.31   \n",
      "...                  ...         ...                ...   \n",
      "47041                  1  2019-07-06               1.00   \n",
      "47063                  4  2019-07-04               4.00   \n",
      "47391                  1  2019-07-02               1.00   \n",
      "47400                  1  2019-07-07               1.00   \n",
      "47950                  1  2019-07-01               1.00   \n",
      "\n",
      "       calculated_host_listings_count  availability_365  \n",
      "85                                  1                 7  \n",
      "496                                11                 0  \n",
      "662                                 1               249  \n",
      "691                                 1               361  \n",
      "762                                 4               297  \n",
      "...                               ...               ...  \n",
      "47041                               1               292  \n",
      "47063                               1               358  \n",
      "47391                               1                17  \n",
      "47400                               5               364  \n",
      "47950                               1               345  \n",
      "\n",
      "[312 rows x 16 columns]\n"
     ]
    }
   ],
   "source": [
    "from scipy import stats\n",
    "z_scores = np.abs(stats.zscore(data['price']))\n",
    "threshold = 3\n",
    "outliers_in = z_scores > threshold\n",
    "outliers = data[outliers_in]\n",
    "print(\"Outliers (Z-score method):\", outliers)"
   ]
  },
  {
   "cell_type": "markdown",
   "id": "8d2c0d86-1c98-4a3e-a4ae-cdc347bc3d66",
   "metadata": {},
   "source": [
    "*We can see that these are listings with relatively high prices compared to the rest of the data*"
   ]
  },
  {
   "cell_type": "code",
   "execution_count": 125,
   "id": "11354c1e-040a-4c60-b330-119c83091881",
   "metadata": {},
   "outputs": [
    {
     "data": {
      "image/png": "[encoded data removed]",
      "text/plain": [
       "<Figure size 640x480 with 1 Axes>"
      ]
     },
     "metadata": {},
     "output_type": "display_data"
    }
   ],
   "source": [
    "plt.hist(data['price'], bins=50, edgecolor='black')\n",
    "plt.axvline(x=outliers['price'].mean(), color='r', linestyle='dashed', linewidth=2, label=\"Outlier Mean\")\n",
    "plt.title(\"Price Distribution with Outliers\")\n",
    "plt.xlabel(\"Price\")\n",
    "plt.ylabel(\"Frequency\")\n",
    "plt.legend()\n",
    "plt.show()\n"
   ]
  },
  {
   "cell_type": "code",
   "execution_count": 126,
   "id": "1cb9bbf4-6035-4b04-a7c4-2cb3e959fa66",
   "metadata": {},
   "outputs": [
    {
     "name": "stdout",
     "output_type": "stream",
     "text": [
      "['Allerton' 'Arden Heights' 'Arrochar' 'Arverne' 'Astoria' 'Bath Beach'\n",
      " 'Battery Park City' 'Bay Ridge' 'Bay Terrace'\n",
      " 'Bay Terrace, Staten Island' 'Baychester' 'Bayside' 'Bayswater'\n",
      " 'Bedford-Stuyvesant' 'Belle Harbor' 'Bellerose' 'Belmont' 'Bensonhurst'\n",
      " 'Bergen Beach' 'Boerum Hill' 'Borough Park' 'Breezy Point' 'Briarwood'\n",
      " 'Brighton Beach' 'Bronxdale' 'Brooklyn Heights' 'Brownsville'\n",
      " \"Bull's Head\" 'Bushwick' 'Cambria Heights' 'Canarsie' 'Carroll Gardens'\n",
      " 'Castle Hill' 'Castleton Corners' 'Chelsea' 'Chinatown' 'City Island'\n",
      " 'Civic Center' 'Claremont Village' 'Clason Point' 'Clifton'\n",
      " 'Clinton Hill' 'Co-op City' 'Cobble Hill' 'College Point' 'Columbia St'\n",
      " 'Concord' 'Concourse' 'Concourse Village' 'Coney Island' 'Corona'\n",
      " 'Crown Heights' 'Cypress Hills' 'DUMBO' 'Ditmars Steinway' 'Dongan Hills'\n",
      " 'Douglaston' 'Downtown Brooklyn' 'Dyker Heights' 'East Elmhurst'\n",
      " 'East Flatbush' 'East Harlem' 'East Morrisania' 'East New York'\n",
      " 'East Village' 'Eastchester' 'Edenwald' 'Edgemere' 'Elmhurst'\n",
      " 'Eltingville' 'Emerson Hill' 'Far Rockaway' 'Fieldston'\n",
      " 'Financial District' 'Flatbush' 'Flatiron District' 'Flatlands'\n",
      " 'Flushing' 'Fordham' 'Forest Hills' 'Fort Greene' 'Fort Hamilton'\n",
      " 'Fresh Meadows' 'Glendale' 'Gowanus' 'Gramercy' 'Graniteville'\n",
      " 'Grant City' 'Gravesend' 'Great Kills' 'Greenpoint' 'Greenwich Village'\n",
      " 'Grymes Hill' 'Harlem' \"Hell's Kitchen\" 'Highbridge' 'Hollis'\n",
      " 'Holliswood' 'Howard Beach' 'Howland Hook' 'Huguenot' 'Hunts Point'\n",
      " 'Inwood' 'Jackson Heights' 'Jamaica' 'Jamaica Estates' 'Jamaica Hills'\n",
      " 'Kensington' 'Kew Gardens' 'Kew Gardens Hills' 'Kingsbridge' 'Kips Bay'\n",
      " 'Laurelton' 'Lighthouse Hill' 'Little Italy' 'Little Neck'\n",
      " 'Long Island City' 'Longwood' 'Lower East Side' 'Manhattan Beach'\n",
      " 'Marble Hill' 'Mariners Harbor' 'Maspeth' 'Melrose' 'Middle Village'\n",
      " 'Midland Beach' 'Midtown' 'Midwood' 'Mill Basin' 'Morningside Heights'\n",
      " 'Morris Heights' 'Morris Park' 'Morrisania' 'Mott Haven' 'Mount Eden'\n",
      " 'Mount Hope' 'Murray Hill' 'Navy Yard' 'Neponsit' 'New Brighton'\n",
      " 'New Dorp Beach' 'New Springville' 'NoHo' 'Nolita' 'North Riverdale'\n",
      " 'Norwood' 'Oakwood' 'Olinville' 'Ozone Park' 'Park Slope' 'Parkchester'\n",
      " 'Pelham Bay' 'Pelham Gardens' 'Port Morris' 'Port Richmond'\n",
      " \"Prince's Bay\" 'Prospect Heights' 'Prospect-Lefferts Gardens'\n",
      " 'Queens Village' 'Randall Manor' 'Red Hook' 'Rego Park' 'Richmond Hill'\n",
      " 'Richmondtown' 'Ridgewood' 'Riverdale' 'Rockaway Beach'\n",
      " 'Roosevelt Island' 'Rosebank' 'Rosedale' 'Rossville' 'Schuylerville'\n",
      " 'Sea Gate' 'Sheepshead Bay' 'Shore Acres' 'Silver Lake' 'SoHo'\n",
      " 'Soundview' 'South Beach' 'South Ozone Park' 'South Slope'\n",
      " 'Springfield Gardens' 'Spuyten Duyvil' 'St. Albans' 'St. George'\n",
      " 'Stapleton' 'Stuyvesant Town' 'Sunnyside' 'Sunset Park'\n",
      " 'Theater District' 'Throgs Neck' 'Todt Hill' 'Tompkinsville'\n",
      " 'Tottenville' 'Tremont' 'Tribeca' 'Two Bridges' 'Unionport'\n",
      " 'University Heights' 'Upper East Side' 'Upper West Side' 'Van Nest'\n",
      " 'Vinegar Hill' 'Wakefield' 'Washington Heights' 'West Brighton'\n",
      " 'West Farms' 'West Village' 'Westchester Square' 'Westerleigh'\n",
      " 'Whitestone' 'Williamsbridge' 'Williamsburg' 'Willowbrook'\n",
      " 'Windsor Terrace' 'Woodhaven' 'Woodlawn' 'Woodside']\n"
     ]
    }
   ],
   "source": [
    "nh = data['neighbourhood'].unique()\n",
    "nh.sort()\n",
    "print(nh)"
   ]
  },
  {
   "cell_type": "code",
   "execution_count": 127,
   "id": "52d92363-bfd5-4d19-8656-fa5fb0f98957",
   "metadata": {},
   "outputs": [
    {
     "name": "stdout",
     "output_type": "stream",
     "text": [
      "['Bronx' 'Brooklyn' 'Manhattan' 'Queens' 'Staten Island']\n"
     ]
    }
   ],
   "source": [
    "nhg = data['neighbourhood_group'].unique()\n",
    "nhg.sort()\n",
    "print(nhg)"
   ]
  },
  {
   "cell_type": "markdown",
   "id": "6f674369-4447-47d5-befb-c8a90dca870c",
   "metadata": {},
   "source": [
    "*There is no inconsistency in the dataset*"
   ]
  }
 ],
 "metadata": {
  "kernelspec": {
   "display_name": "Python [conda env:base] *",
   "language": "python",
   "name": "conda-base-py"
  },
  "language_info": {
   "codemirror_mode": {
    "name": "ipython",
    "version": 3
   },
   "file_extension": ".py",
   "mimetype": "text/x-python",
   "name": "python",
   "nbconvert_exporter": "python",
   "pygments_lexer": "ipython3",
   "version": "3.12.7"
  }
 },
 "nbformat": 4,
 "nbformat_minor": 5
}
